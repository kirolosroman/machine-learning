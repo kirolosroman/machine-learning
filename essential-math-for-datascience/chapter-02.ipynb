{
 "cells": [
  {
   "cell_type": "markdown",
   "metadata": {},
   "source": [
    "## Essiential Math for Data Science\n",
    "### Take contorl of your data with fundamental linear algebra, probality, and statistics. by Thomas Nield\n",
    "### chapter two"
   ]
  },
  {
   "cell_type": "markdown",
   "metadata": {},
   "source": [
    "## probabality\n",
    "Probability is how strongly we believe an event will happen, often expressed as a percentage.  "
   ]
  },
  {
   "cell_type": "markdown",
   "metadata": {},
   "source": [
    "### the Difference between probability and likelihood is:\n",
    "Probability is about quantifying predictions of events yet to happen, whereas likelihood is measuring the frequency of events that already occurred. In statistics and machine learning, we often use likelihood (the past) in the form of data to predict probability (the future)."
   ]
  },
  {
   "cell_type": "markdown",
   "metadata": {},
   "source": [
    "## Probability Versus Statistics\n",
    "Sometimes people use the terms probability and statistics interchangeably, and while\n",
    "it is understandable to conflate the two disciplines, they do have distinctions. Proba‐\n",
    "bility is purely theoretical of how likely an event is to happen and does not require\n",
    "data. Statistics, on the other hand, cannot exist without data and uses it to discover\n",
    "probability and provides tools to describe data.\n",
    "Think of predicting the outcome of rolling a 4 on a die (that’s the singular of dice).\n",
    "Approaching the problem with a pure probability mindset, one simply says there are\n",
    "six sides on a die. We assume each side is equally likely, so the probability of getting a\n",
    "4 is 1/6, or 16.666%"
   ]
  },
  {
   "cell_type": "markdown",
   "metadata": {},
   "source": [
    "### Conditional Probability and Bayes’ Theorem\n",
    "### $ P(A|B)=\\frac{P(B|A)*P(A)}{P(B)}$"
   ]
  },
  {
   "cell_type": "code",
   "execution_count": 6,
   "metadata": {},
   "outputs": [
    {
     "name": "stdout",
     "output_type": "stream",
     "text": [
      "0.006538461538461539\n"
     ]
    }
   ],
   "source": [
    "p_coffee_drinker = .65\n",
    "p_cancer = .005\n",
    "p_coffee_drinker_given_cancer = .85\n",
    "p_cancer_given_coffee_drinker = p_coffee_drinker_given_cancer * p_cancer / p_coffee_drinker\n",
    "print(p_cancer_given_coffee_drinker)"
   ]
  },
  {
   "cell_type": "markdown",
   "metadata": {},
   "source": [
    "## binomial distribution"
   ]
  },
  {
   "cell_type": "code",
   "execution_count": 7,
   "metadata": {},
   "outputs": [
    {
     "name": "stdout",
     "output_type": "stream",
     "text": [
      "0-9.999999999999977e-11\n",
      "1-8.999999999999976e-09\n",
      "2-3.6449999999999933e-07\n",
      "3-8.747999999999988e-06\n",
      "4-0.00013778099999999974\n",
      "5-0.0014880347999999982\n",
      "6-0.011160260999999989\n",
      "7-0.05739562799999997\n",
      "8-0.1937102444999998\n",
      "9-0.38742048899999976\n",
      "10-0.34867844010000015\n"
     ]
    }
   ],
   "source": [
    "from scipy.stats import binom\n",
    "n,p=10,0.9\n",
    "for k in range(n+1):\n",
    "    probability = binom.pmf(k,n,p)\n",
    "    print(\"{0}-{1}\".format(k, probability))"
   ]
  },
  {
   "cell_type": "code",
   "execution_count": 8,
   "metadata": {},
   "outputs": [
    {
     "data": {
      "image/png": "[encoded data removed]",
      "text/plain": [
       "<Figure size 640x480 with 1 Axes>"
      ]
     },
     "metadata": {},
     "output_type": "display_data"
    }
   ],
   "source": [
    "import matplotlib.pyplot as plt\n",
    "r_values=list(range(n+1))\n",
    "dist=[binom.pmf(k,n,p) for k in r_values]\n",
    "plt.bar(r_values,dist)\n",
    "plt.show()"
   ]
  },
  {
   "cell_type": "markdown",
   "metadata": {},
   "source": [
    "## Beta distribution"
   ]
  },
  {
   "cell_type": "code",
   "execution_count": 12,
   "metadata": {},
   "outputs": [
    {
     "data": {
      "text/plain": [
       "0.7748409780000002"
      ]
     },
     "execution_count": 12,
     "metadata": {},
     "output_type": "execute_result"
    }
   ],
   "source": [
    "from scipy.stats import beta\n",
    "a,b=8,2\n",
    "p=beta.cdf(0.9,a,b)\n",
    "p"
   ]
  }
 ],
 "metadata": {
  "kernelspec": {
   "display_name": "Python 3",
   "language": "python",
   "name": "python3"
  },
  "language_info": {
   "codemirror_mode": {
    "name": "ipython",
    "version": 3
   },
   "file_extension": ".py",
   "mimetype": "text/x-python",
   "name": "python",
   "nbconvert_exporter": "python",
   "pygments_lexer": "ipython3",
   "version": "3.12.4"
  }
 },
 "nbformat": 4,
 "nbformat_minor": 2
}

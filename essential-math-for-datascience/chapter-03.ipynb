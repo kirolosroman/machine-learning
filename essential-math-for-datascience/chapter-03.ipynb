{
 "cells": [
  {
   "cell_type": "markdown",
   "metadata": {},
   "source": [
    "## Essiential Math for Data Science\n",
    "### Take contorl of your data with fundamental linear algebra, probality, and statistics. by Thomas Nield\n",
    "### chapter three"
   ]
  },
  {
   "cell_type": "markdown",
   "metadata": {},
   "source": [
    "## Descriptive and Inferential Statistics"
   ]
  },
  {
   "cell_type": "markdown",
   "metadata": {},
   "source": [
    "Statistics is the practice of collecting and analyzing data to discover findings that are\n",
    "useful or predict what causes those findings to happen. Probability often plays a large\n",
    "role in statistics, as we use data to estimate how likely an event is to happen."
   ]
  },
  {
   "cell_type": "markdown",
   "metadata": {},
   "source": [
    "### descriptive statistics, \n",
    "and we use it to summarize data. After all, is it more meaningful to scroll through a million records of data or have it summarized? We will cover this area of statistics first.\n",
    "### Inferential statistics\n",
    " tries to uncover attributes about a larger population, often based on a sample. It is often misunderstood and less intuitive than descriptive statistics. Often we are interested in studying a group that is too large to observe"
   ]
  },
  {
   "cell_type": "markdown",
   "metadata": {},
   "source": [
    "### Mean and Weighted Mean\n",
    "The mean is the average of a set of values. The operation is simple to do: sum the\n",
    "values and divide by the number of values. The mean is useful because it shows where\n",
    "the “center of gravity” exists for an observed set of values"
   ]
  },
  {
   "cell_type": "code",
   "execution_count": 1,
   "metadata": {},
   "outputs": [
    {
     "data": {
      "text/plain": [
       "5.0"
      ]
     },
     "execution_count": 1,
     "metadata": {},
     "output_type": "execute_result"
    }
   ],
   "source": [
    "sample=[1,2,3,4,5,6,7,8,9]\n",
    "mean=sum(sample)/len(sample)\n",
    "mean"
   ]
  },
  {
   "cell_type": "code",
   "execution_count": 5,
   "metadata": {},
   "outputs": [
    {
     "data": {
      "text/plain": [
       "81.2"
      ]
     },
     "execution_count": 5,
     "metadata": {},
     "output_type": "execute_result"
    }
   ],
   "source": [
    "# wieghted mean\n",
    "sample=[90,80,64,86]\n",
    "weights=[1.0,1.0,1.0,2.0]\n",
    "weighted_mean=sum(s*w for s,w in zip(sample,weights))/sum(weights)\n",
    "weighted_mean"
   ]
  }
 ],
 "metadata": {
  "kernelspec": {
   "display_name": "Python 3",
   "language": "python",
   "name": "python3"
  },
  "language_info": {
   "codemirror_mode": {
    "name": "ipython",
    "version": 3
   },
   "file_extension": ".py",
   "mimetype": "text/x-python",
   "name": "python",
   "nbconvert_exporter": "python",
   "pygments_lexer": "ipython3",
   "version": "3.12.4"
  }
 },
 "nbformat": 4,
 "nbformat_minor": 2
}

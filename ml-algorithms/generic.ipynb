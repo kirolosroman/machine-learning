{
 "cells": [
  {
   "cell_type": "markdown",
   "metadata": {},
   "source": [
    "# Functions for cleaning data wrangling"
   ]
  },
  {
   "cell_type": "code",
   "execution_count": null,
   "metadata": {},
   "outputs": [],
   "source": [
    "# generic function to fill missing data --can be modified later for better general use\n",
    "def data_filling_missing_data(df_fill,numeric_function,object_function):\n",
    "    for label, content in df_fill.items():\n",
    "        if pd.api.types.is_numeric_dtype(content) :\n",
    "            if pd.isnull(content).sum():\n",
    "                missing_values = pd.isnull(content).sum()\n",
    "                if numeric_function==\"median\":\n",
    "                    df_fill[label] = content.fillna(content.median())\n",
    "                print(\"number of missing values\",label,missing_values)\n",
    "            else:\n",
    "                print(label,\":\",\"column has no missing values\")\n",
    "        elif pd.api.types.is_string_dtype(content):\n",
    "            print(label,\":\",\"column is a string data type\")\n",
    "        elif pd.api.types.is_object_dtype(content):\n",
    "            if pd.isnull(content).sum():\n",
    "                missing_values = pd.isnull(content).sum()\n",
    "                if object_function=='mode':\n",
    "                    most_frequent_values=content.mode()[0]\n",
    "                df_fill[label] = content.fillna(most_frequent_values)\n",
    "                print(\"number of missing values\",label,missing_values,\"AND the most frquent value is:\",most_frequent_values)\n",
    "\n",
    "        "
   ]
  },
  {
   "cell_type": "code",
   "execution_count": 1,
   "metadata": {},
   "outputs": [],
   "source": [
    "# delete unusful columns\n",
    "def data_delete_columns(df_delete,columnList):\n",
    "    if df_delete is None:  \n",
    "        raise ValueError(\"The DataFrame cannot be None.\")  \n",
    "    # Drop columns if they exist in the DataFrame  \n",
    "    df_delete.drop(columns=[col for col in columnList if col in df.columns], inplace=True)  \n",
    "    "
   ]
  },
  {
   "cell_type": "code",
   "execution_count": null,
   "metadata": {},
   "outputs": [],
   "source": [
    "#one hot encode\n",
    "columnList=[\"HomePlanet\",\"Destination\"]\n",
    "df=pd.get_dummies(df,columns=columnList)"
   ]
  },
  {
   "cell_type": "code",
   "execution_count": null,
   "metadata": {},
   "outputs": [],
   "source": []
  }
 ],
 "metadata": {
  "kernelspec": {
   "display_name": "Python 3",
   "language": "python",
   "name": "python3"
  },
  "language_info": {
   "codemirror_mode": {
    "name": "ipython",
    "version": 3
   },
   "file_extension": ".py",
   "mimetype": "text/x-python",
   "name": "python",
   "nbconvert_exporter": "python",
   "pygments_lexer": "ipython3",
   "version": "3.12.4"
  }
 },
 "nbformat": 4,
 "nbformat_minor": 2
}
